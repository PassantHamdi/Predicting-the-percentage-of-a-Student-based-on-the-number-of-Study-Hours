{
 "cells": [
  {
   "cell_type": "markdown",
   "id": "fbf8e453",
   "metadata": {},
   "source": [
    "# Predicting the percentage of a Student based on the number of Study Hours\n",
    "## By (Passant Hamdi)"
   ]
  },
  {
   "cell_type": "markdown",
   "id": "5157951e",
   "metadata": {},
   "source": [
    "In this project we will use linear regression to predict a student grades based on the number of hours he studied.\n",
    "It involves only two variables."
   ]
  },
  {
   "cell_type": "code",
   "execution_count": 1,
   "id": "d7205d59",
   "metadata": {},
   "outputs": [],
   "source": [
    "# Let's import our important libraries\n",
    "import pandas as pd\n",
    "import numpy as np  \n",
    "import matplotlib.pyplot as plt\n",
    "import seaborn as sns\n",
    "%matplotlib inline"
   ]
  },
  {
   "cell_type": "markdown",
   "id": "ef06b358",
   "metadata": {},
   "source": [
    "### Exploring the data"
   ]
  },
  {
   "cell_type": "code",
   "execution_count": 2,
   "id": "fd9e1af1",
   "metadata": {},
   "outputs": [],
   "source": [
    "# Extracting the data from URL\n",
    "url = 'http://bit.ly/w-data'\n",
    "df = pd.read_csv(url)"
   ]
  },
  {
   "cell_type": "code",
   "execution_count": 3,
   "id": "51ccbfd9",
   "metadata": {},
   "outputs": [
    {
     "data": {
      "text/html": [
       "<div>\n",
       "<style scoped>\n",
       "    .dataframe tbody tr th:only-of-type {\n",
       "        vertical-align: middle;\n",
       "    }\n",
       "\n",
       "    .dataframe tbody tr th {\n",
       "        vertical-align: top;\n",
       "    }\n",
       "\n",
       "    .dataframe thead th {\n",
       "        text-align: right;\n",
       "    }\n",
       "</style>\n",
       "<table border=\"1\" class=\"dataframe\">\n",
       "  <thead>\n",
       "    <tr style=\"text-align: right;\">\n",
       "      <th></th>\n",
       "      <th>Hours</th>\n",
       "      <th>Scores</th>\n",
       "    </tr>\n",
       "  </thead>\n",
       "  <tbody>\n",
       "    <tr>\n",
       "      <th>0</th>\n",
       "      <td>2.5</td>\n",
       "      <td>21</td>\n",
       "    </tr>\n",
       "    <tr>\n",
       "      <th>1</th>\n",
       "      <td>5.1</td>\n",
       "      <td>47</td>\n",
       "    </tr>\n",
       "    <tr>\n",
       "      <th>2</th>\n",
       "      <td>3.2</td>\n",
       "      <td>27</td>\n",
       "    </tr>\n",
       "    <tr>\n",
       "      <th>3</th>\n",
       "      <td>8.5</td>\n",
       "      <td>75</td>\n",
       "    </tr>\n",
       "    <tr>\n",
       "      <th>4</th>\n",
       "      <td>3.5</td>\n",
       "      <td>30</td>\n",
       "    </tr>\n",
       "  </tbody>\n",
       "</table>\n",
       "</div>"
      ],
      "text/plain": [
       "   Hours  Scores\n",
       "0    2.5      21\n",
       "1    5.1      47\n",
       "2    3.2      27\n",
       "3    8.5      75\n",
       "4    3.5      30"
      ]
     },
     "execution_count": 3,
     "metadata": {},
     "output_type": "execute_result"
    }
   ],
   "source": [
    "# Now Let's view our data\n",
    "df.head()"
   ]
  },
  {
   "cell_type": "code",
   "execution_count": 4,
   "id": "6617eaaa",
   "metadata": {},
   "outputs": [
    {
     "data": {
      "text/plain": [
       "Hours     0\n",
       "Scores    0\n",
       "dtype: int64"
      ]
     },
     "execution_count": 4,
     "metadata": {},
     "output_type": "execute_result"
    }
   ],
   "source": [
    "#Let's make sure that we don't have null data\n",
    "df.isnull().sum()"
   ]
  },
  {
   "cell_type": "markdown",
   "id": "be419fb7",
   "metadata": {},
   "source": [
    "Yes! our data is clean"
   ]
  },
  {
   "cell_type": "markdown",
   "id": "66bdb731",
   "metadata": {},
   "source": [
    "Here we will plot our data to see if we can dedict the relationship between the two vriables."
   ]
  },
  {
   "cell_type": "code",
   "execution_count": 5,
   "id": "0cf42a15",
   "metadata": {},
   "outputs": [
    {
     "data": {
      "image/png": "[encoded data removed]",
      "text/plain": [
       "<Figure size 432x288 with 1 Axes>"
      ]
     },
     "metadata": {
      "needs_background": "light"
     },
     "output_type": "display_data"
    }
   ],
   "source": [
    "sns.scatterplot(x = 'Hours', y = 'Scores', data = df)\n",
    "plt.title('Hours vs Scores');"
   ]
  },
  {
   "cell_type": "markdown",
   "id": "0edb3306",
   "metadata": {},
   "source": [
    "We can see that there is a positive linear relationship between students' study hours and there scores."
   ]
  },
  {
   "cell_type": "markdown",
   "id": "58f1e87e",
   "metadata": {},
   "source": [
    "## preparing the Data"
   ]
  },
  {
   "cell_type": "code",
   "execution_count": 6,
   "id": "b73bdf76",
   "metadata": {},
   "outputs": [],
   "source": [
    "# Let's split our data into inputs and outputs\n",
    "X = df.iloc[:, :-1].values  \n",
    "y = df.iloc[:, 1].values  "
   ]
  },
  {
   "cell_type": "markdown",
   "id": "8c11cf94",
   "metadata": {},
   "source": [
    "Then we are going to split the data into training data and testing data by using Scikit-Learn's built-in train_test_split() method."
   ]
  },
  {
   "cell_type": "code",
   "execution_count": 7,
   "id": "0b171383",
   "metadata": {},
   "outputs": [],
   "source": [
    "from sklearn.model_selection import train_test_split  \n",
    "X_train, X_test, y_train, y_test = train_test_split(X, y, \n",
    "                            test_size=0.2, random_state=0) "
   ]
  },
  {
   "cell_type": "code",
   "execution_count": 8,
   "id": "1a1e0fa7",
   "metadata": {},
   "outputs": [
    {
     "name": "stdout",
     "output_type": "stream",
     "text": [
      "Training set has 20 samples.\n",
      "Testing set has 5 samples.\n"
     ]
    }
   ],
   "source": [
    "#Show the results of the split\n",
    "print(\"Training set has {} samples.\".format(X_train.shape[0]))\n",
    "print(\"Testing set has {} samples.\".format(X_test.shape[0]))"
   ]
  },
  {
   "cell_type": "markdown",
   "id": "48146fbb",
   "metadata": {},
   "source": [
    "## Implementing the model"
   ]
  },
  {
   "cell_type": "markdown",
   "id": "f32bd679",
   "metadata": {},
   "source": [
    "For our linear regression model, we'll be using scikit-learn's LinearRegression class. This class provides the function fit() to fit the model to our data."
   ]
  },
  {
   "cell_type": "code",
   "execution_count": 9,
   "id": "f7561e9e",
   "metadata": {},
   "outputs": [
    {
     "data": {
      "text/plain": [
       "LinearRegression()"
      ]
     },
     "execution_count": 9,
     "metadata": {},
     "output_type": "execute_result"
    }
   ],
   "source": [
    "from sklearn.linear_model import LinearRegression\n",
    "model = LinearRegression()\n",
    "model.fit(X_train, y_train)"
   ]
  },
  {
   "cell_type": "markdown",
   "id": "8a75bf70",
   "metadata": {},
   "source": [
    "Now we have trained our model!"
   ]
  },
  {
   "cell_type": "code",
   "execution_count": 10,
   "id": "0fe52461",
   "metadata": {},
   "outputs": [
    {
     "data": {
      "image/png": "[encoded data removed]",
      "text/plain": [
       "<Figure size 432x288 with 1 Axes>"
      ]
     },
     "metadata": {
      "needs_background": "light"
     },
     "output_type": "display_data"
    }
   ],
   "source": [
    "# Let's Plotthe regression line\n",
    "line = model.coef_*X+model.intercept_\n",
    "\n",
    "# Plotting for the test data\n",
    "plt.scatter(X, y)\n",
    "plt.plot(X, line);"
   ]
  },
  {
   "cell_type": "markdown",
   "id": "9bf6cf11",
   "metadata": {},
   "source": [
    "Here we have fitted the line to our data."
   ]
  },
  {
   "cell_type": "code",
   "execution_count": 11,
   "id": "e616e513",
   "metadata": {},
   "outputs": [
    {
     "name": "stdout",
     "output_type": "stream",
     "text": [
      "[[1.5]\n",
      " [3.2]\n",
      " [7.4]\n",
      " [2.5]\n",
      " [5.9]] [16.88414476 33.73226078 75.357018   26.79480124 60.49103328]\n"
     ]
    }
   ],
   "source": [
    "# Now let's predict student's scores.\n",
    "y_pred = model.predict(X_test)\n",
    "\n",
    "print(X_test, y_pred)"
   ]
  },
  {
   "cell_type": "markdown",
   "id": "6eb85bf6",
   "metadata": {},
   "source": [
    "The results above shows that student's scores increase with the studying hours."
   ]
  },
  {
   "cell_type": "markdown",
   "id": "fd88584a",
   "metadata": {},
   "source": [
    "## Testing The Model"
   ]
  },
  {
   "cell_type": "code",
   "execution_count": 12,
   "id": "de51c637",
   "metadata": {},
   "outputs": [
    {
     "data": {
      "text/html": [
       "<div>\n",
       "<style scoped>\n",
       "    .dataframe tbody tr th:only-of-type {\n",
       "        vertical-align: middle;\n",
       "    }\n",
       "\n",
       "    .dataframe tbody tr th {\n",
       "        vertical-align: top;\n",
       "    }\n",
       "\n",
       "    .dataframe thead th {\n",
       "        text-align: right;\n",
       "    }\n",
       "</style>\n",
       "<table border=\"1\" class=\"dataframe\">\n",
       "  <thead>\n",
       "    <tr style=\"text-align: right;\">\n",
       "      <th></th>\n",
       "      <th>Actual</th>\n",
       "      <th>Predicted</th>\n",
       "    </tr>\n",
       "  </thead>\n",
       "  <tbody>\n",
       "    <tr>\n",
       "      <th>0</th>\n",
       "      <td>20</td>\n",
       "      <td>16.884145</td>\n",
       "    </tr>\n",
       "    <tr>\n",
       "      <th>1</th>\n",
       "      <td>27</td>\n",
       "      <td>33.732261</td>\n",
       "    </tr>\n",
       "    <tr>\n",
       "      <th>2</th>\n",
       "      <td>69</td>\n",
       "      <td>75.357018</td>\n",
       "    </tr>\n",
       "    <tr>\n",
       "      <th>3</th>\n",
       "      <td>30</td>\n",
       "      <td>26.794801</td>\n",
       "    </tr>\n",
       "    <tr>\n",
       "      <th>4</th>\n",
       "      <td>62</td>\n",
       "      <td>60.491033</td>\n",
       "    </tr>\n",
       "  </tbody>\n",
       "</table>\n",
       "</div>"
      ],
      "text/plain": [
       "   Actual  Predicted\n",
       "0      20  16.884145\n",
       "1      27  33.732261\n",
       "2      69  75.357018\n",
       "3      30  26.794801\n",
       "4      62  60.491033"
      ]
     },
     "execution_count": 12,
     "metadata": {},
     "output_type": "execute_result"
    }
   ],
   "source": [
    "# let's compare between the actual and predicted scores.\n",
    "Y = pd.DataFrame({'Actual': y_test, 'Predicted': y_pred})  \n",
    "Y "
   ]
  },
  {
   "cell_type": "code",
   "execution_count": 13,
   "id": "0e85b81e",
   "metadata": {},
   "outputs": [
    {
     "name": "stdout",
     "output_type": "stream",
     "text": [
      "No of Hours = 9.25\n",
      "Predicted Score = 93.69173248737539\n"
     ]
    }
   ],
   "source": [
    "# Here we will predict the score for specific studying hours.\n",
    "study_hours = 9.25\n",
    "sc_pred = model.predict([[study_hours]])\n",
    "print(\"No of Hours = {}\".format(study_hours))\n",
    "print(\"Predicted Score = {}\".format(sc_pred[0]))"
   ]
  },
  {
   "cell_type": "markdown",
   "id": "bdd47f9c",
   "metadata": {},
   "source": [
    "## Evaluating The Model"
   ]
  },
  {
   "cell_type": "markdown",
   "id": "e1e02168",
   "metadata": {},
   "source": [
    "Now we have reached our final step in the project. We are going to evalute our regression model using r2 method."
   ]
  },
  {
   "cell_type": "code",
   "execution_count": 14,
   "id": "480d0e01",
   "metadata": {},
   "outputs": [
    {
     "name": "stdout",
     "output_type": "stream",
     "text": [
      "0.9454906892105354\n"
     ]
    }
   ],
   "source": [
    "from sklearn.metrics import r2_score\n",
    "r2 = r2_score(y_test,y_pred)\n",
    "print(r2)"
   ]
  },
  {
   "cell_type": "markdown",
   "id": "7bebe148",
   "metadata": {},
   "source": [
    "The normal case is when the R2 score is between zero and one.  0.95 means our model is capable to explain 95 per cent of the variance of data."
   ]
  },
  {
   "cell_type": "code",
   "execution_count": null,
   "id": "25632acf",
   "metadata": {},
   "outputs": [],
   "source": []
  }
 ],
 "metadata": {
  "kernelspec": {
   "display_name": "Python 3",
   "language": "python",
   "name": "python3"
  },
  "language_info": {
   "codemirror_mode": {
    "name": "ipython",
    "version": 3
   },
   "file_extension": ".py",
   "mimetype": "text/x-python",
   "name": "python",
   "nbconvert_exporter": "python",
   "pygments_lexer": "ipython3",
   "version": "3.7.6"
  }
 },
 "nbformat": 4,
 "nbformat_minor": 5
}
